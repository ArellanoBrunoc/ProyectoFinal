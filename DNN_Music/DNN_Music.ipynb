{
 "cells": [
  {
   "cell_type": "markdown",
   "metadata": {},
   "source": [
    "# Importar bibliotecas necesarias"
   ]
  },
  {
   "cell_type": "code",
   "execution_count": 1,
   "metadata": {},
   "outputs": [],
   "source": [
    "import sys\n",
    "import os\n",
    "import importlib\n",
    "import matplotlib.pyplot as plt\n",
    "import seaborn as sns\n",
    "import numpy as np\n",
    "import pandas as pd\n",
    "from pathlib import Path"
   ]
  },
  {
   "cell_type": "markdown",
   "metadata": {},
   "source": [
    "### Se crea una funcion para modularizar el código guardado en scripts para facilitar su uso"
   ]
  },
  {
   "cell_type": "code",
   "execution_count": 2,
   "metadata": {},
   "outputs": [],
   "source": [
    "# Ruta base del proyecto\n",
    "base_dir = Path.cwd().parents[0] \n",
    "\n",
    "#Creacion de las variables de path para los scripts\n",
    "data_path = os.path.join(base_dir,\"DNN_Music\", 'docs', 'data', 'musicdataset.csv')\n",
    "\n",
    "\n",
    "# Función para importar y ejecutar scripts\n",
    "def run_script(script_path):\n",
    "    \"\"\"Ejecutar el script especificado\"\"\"\n",
    "    sys.path.append(os.path.dirname(script_path))\n",
    "    script_name = os.path.basename(script_path).replace('.py', '')\n",
    "    module = importlib.import_module(script_name)\n",
    "\n",
    "    # Codigo que llama las funciones modularizadas\n",
    "    if hasattr(module, 'load_data_set'):\n",
    "        df, descriptions = module.load_data_set(data_path)\n",
    "        return df, descriptions  \n",
    "    else:\n",
    "        return module"
   ]
  },
  {
   "cell_type": "markdown",
   "metadata": {},
   "source": [
    "# 1. Adquisición de los datos"
   ]
  },
  {
   "cell_type": "code",
   "execution_count": 3,
   "metadata": {},
   "outputs": [
    {
     "name": "stdout",
     "output_type": "stream",
     "text": [
      "Ruta actual: a:\\Users\\arell\\Desktop\\ProyectoFinal\\DNN_Music\n",
      "Data set cargado con exito  y diccionario de descripciones creado\n",
      "               filename  length  chroma_stft_mean  chroma_stft_var  rms_mean  \\\n",
      "0     blues.00000.0.wav   66149          0.335406         0.091048  0.130405   \n",
      "1     blues.00000.1.wav   66149          0.343065         0.086147  0.112699   \n",
      "2     blues.00000.2.wav   66149          0.346815         0.092243  0.132003   \n",
      "3     blues.00000.3.wav   66149          0.363639         0.086856  0.132565   \n",
      "4     blues.00000.4.wav   66149          0.335579         0.088129  0.143289   \n",
      "...                 ...     ...               ...              ...       ...   \n",
      "9985   rock.00099.5.wav   66149          0.349126         0.080515  0.050019   \n",
      "9986   rock.00099.6.wav   66149          0.372564         0.082626  0.057897   \n",
      "9987   rock.00099.7.wav   66149          0.347481         0.089019  0.052403   \n",
      "9988   rock.00099.8.wav   66149          0.387527         0.084815  0.066430   \n",
      "9989   rock.00099.9.wav   66149          0.369293         0.086759  0.050524   \n",
      "\n",
      "       rms_var  spectral_centroid_mean  spectral_centroid_var  \\\n",
      "0     0.003521             1773.065032          167541.630869   \n",
      "1     0.001450             1816.693777           90525.690866   \n",
      "2     0.004620             1788.539719          111407.437613   \n",
      "3     0.002448             1655.289045          111952.284517   \n",
      "4     0.001701             1630.656199           79667.267654   \n",
      "...        ...                     ...                    ...   \n",
      "9985  0.000097             1499.083005          164266.886443   \n",
      "9986  0.000088             1847.965128          281054.935973   \n",
      "9987  0.000701             1346.157659          662956.246325   \n",
      "9988  0.000320             2084.515327          203891.039161   \n",
      "9989  0.000067             1634.330126          411429.169769   \n",
      "\n",
      "      spectral_bandwidth_mean  spectral_bandwidth_var  ...  mfcc16_var  \\\n",
      "0                 1972.744388           117335.771563  ...   39.687145   \n",
      "1                 2010.051501            65671.875673  ...   64.748276   \n",
      "2                 2084.565132            75124.921716  ...   67.336563   \n",
      "3                 1960.039988            82913.639269  ...   47.739452   \n",
      "4                 1948.503884            60204.020268  ...   30.336359   \n",
      "...                       ...                     ...  ...         ...   \n",
      "9985              1718.707215            85931.574523  ...   42.485981   \n",
      "9986              1906.468492            99727.037054  ...   32.415203   \n",
      "9987              1561.859087           138762.841945  ...   78.228149   \n",
      "9988              2018.366254            22860.992562  ...   28.323744   \n",
      "9989              1867.422378           119722.211518  ...   38.801735   \n",
      "\n",
      "      mfcc17_mean  mfcc17_var  mfcc18_mean  mfcc18_var  mfcc19_mean  \\\n",
      "0       -3.241280   36.488243     0.722209   38.099152    -5.050335   \n",
      "1       -6.055294   40.677654     0.159015   51.264091    -2.837699   \n",
      "2       -1.768610   28.348579     2.378768   45.717648    -1.938424   \n",
      "3       -3.841155   28.337118     1.218588   34.770935    -3.580352   \n",
      "4        0.664582   45.880913     1.689446   51.363583    -3.392489   \n",
      "...           ...         ...          ...         ...          ...   \n",
      "9985    -9.094270   38.326839    -4.246976   31.049839    -5.625813   \n",
      "9986   -12.375726   66.418587    -3.081278   54.414265   -11.960546   \n",
      "9987    -2.524483   21.778994     4.809936   25.980829     1.775686   \n",
      "9988    -5.363541   17.209942     6.462601   21.442928     2.354765   \n",
      "9989   -11.598399   58.983097    -0.178517   55.761299    -6.903252   \n",
      "\n",
      "      mfcc19_var  mfcc20_mean  mfcc20_var  label  \n",
      "0      33.618073    -0.243027   43.771767  blues  \n",
      "1      97.030830     5.784063   59.943081  blues  \n",
      "2      53.050835     2.517375   33.105122  blues  \n",
      "3      50.836224     3.630866   32.023678  blues  \n",
      "4      26.738789     0.536961   29.146694  blues  \n",
      "...          ...          ...         ...    ...  \n",
      "9985   48.804092     1.818823   38.966969   rock  \n",
      "9986   63.452255     0.428857   18.697033   rock  \n",
      "9987   48.582378    -0.299545   41.586990   rock  \n",
      "9988   24.843613     0.675824   12.787750   rock  \n",
      "9989   39.485901    -3.412534   31.727489   rock  \n",
      "\n",
      "[9990 rows x 60 columns]\n"
     ]
    }
   ],
   "source": [
    "df, descriptions = run_script(os.path.join(base_dir,\"DNN_Music\", 'scripts', 'data_acquisition', 'data_acquisition.py'))\n",
    "print(df)"
   ]
  },
  {
   "cell_type": "markdown",
   "metadata": {},
   "source": [
    "### Limpieza inicial de los datos, eliminamos las columnas de 'filename' y 'length', se recibe el modulo de preprocesamiento para poder usar las funciones individuales"
   ]
  },
  {
   "cell_type": "code",
   "execution_count": 4,
   "metadata": {},
   "outputs": [
    {
     "name": "stdout",
     "output_type": "stream",
     "text": [
      "      chroma_stft_mean  chroma_stft_var  rms_mean   rms_var  \\\n",
      "0             0.335406         0.091048  0.130405  0.003521   \n",
      "1             0.343065         0.086147  0.112699  0.001450   \n",
      "2             0.346815         0.092243  0.132003  0.004620   \n",
      "3             0.363639         0.086856  0.132565  0.002448   \n",
      "4             0.335579         0.088129  0.143289  0.001701   \n",
      "...                ...              ...       ...       ...   \n",
      "9985          0.349126         0.080515  0.050019  0.000097   \n",
      "9986          0.372564         0.082626  0.057897  0.000088   \n",
      "9987          0.347481         0.089019  0.052403  0.000701   \n",
      "9988          0.387527         0.084815  0.066430  0.000320   \n",
      "9989          0.369293         0.086759  0.050524  0.000067   \n",
      "\n",
      "      spectral_centroid_mean  spectral_centroid_var  spectral_bandwidth_mean  \\\n",
      "0                1773.065032          167541.630869              1972.744388   \n",
      "1                1816.693777           90525.690866              2010.051501   \n",
      "2                1788.539719          111407.437613              2084.565132   \n",
      "3                1655.289045          111952.284517              1960.039988   \n",
      "4                1630.656199           79667.267654              1948.503884   \n",
      "...                      ...                    ...                      ...   \n",
      "9985             1499.083005          164266.886443              1718.707215   \n",
      "9986             1847.965128          281054.935973              1906.468492   \n",
      "9987             1346.157659          662956.246325              1561.859087   \n",
      "9988             2084.515327          203891.039161              2018.366254   \n",
      "9989             1634.330126          411429.169769              1867.422378   \n",
      "\n",
      "      spectral_bandwidth_var  rolloff_mean   rolloff_var  ...  mfcc16_var  \\\n",
      "0              117335.771563   3714.560359  1.080790e+06  ...   39.687145   \n",
      "1               65671.875673   3869.682242  6.722448e+05  ...   64.748276   \n",
      "2               75124.921716   3997.639160  7.907127e+05  ...   67.336563   \n",
      "3               82913.639269   3568.300218  9.216524e+05  ...   47.739452   \n",
      "4               60204.020268   3469.992864  6.102111e+05  ...   30.336359   \n",
      "...                      ...           ...           ...  ...         ...   \n",
      "9985            85931.574523   3015.559458  8.479527e+05  ...   42.485981   \n",
      "9986            99727.037054   3746.694524  1.170890e+06  ...   32.415203   \n",
      "9987           138762.841945   2442.362154  2.602871e+06  ...   78.228149   \n",
      "9988            22860.992562   4313.266226  4.968878e+05  ...   28.323744   \n",
      "9989           119722.211518   3462.042142  1.517016e+06  ...   38.801735   \n",
      "\n",
      "      mfcc17_mean  mfcc17_var  mfcc18_mean  mfcc18_var  mfcc19_mean  \\\n",
      "0       -3.241280   36.488243     0.722209   38.099152    -5.050335   \n",
      "1       -6.055294   40.677654     0.159015   51.264091    -2.837699   \n",
      "2       -1.768610   28.348579     2.378768   45.717648    -1.938424   \n",
      "3       -3.841155   28.337118     1.218588   34.770935    -3.580352   \n",
      "4        0.664582   45.880913     1.689446   51.363583    -3.392489   \n",
      "...           ...         ...          ...         ...          ...   \n",
      "9985    -9.094270   38.326839    -4.246976   31.049839    -5.625813   \n",
      "9986   -12.375726   66.418587    -3.081278   54.414265   -11.960546   \n",
      "9987    -2.524483   21.778994     4.809936   25.980829     1.775686   \n",
      "9988    -5.363541   17.209942     6.462601   21.442928     2.354765   \n",
      "9989   -11.598399   58.983097    -0.178517   55.761299    -6.903252   \n",
      "\n",
      "      mfcc19_var  mfcc20_mean  mfcc20_var  label  \n",
      "0      33.618073    -0.243027   43.771767  blues  \n",
      "1      97.030830     5.784063   59.943081  blues  \n",
      "2      53.050835     2.517375   33.105122  blues  \n",
      "3      50.836224     3.630866   32.023678  blues  \n",
      "4      26.738789     0.536961   29.146694  blues  \n",
      "...          ...          ...         ...    ...  \n",
      "9985   48.804092     1.818823   38.966969   rock  \n",
      "9986   63.452255     0.428857   18.697033   rock  \n",
      "9987   48.582378    -0.299545   41.586990   rock  \n",
      "9988   24.843613     0.675824   12.787750   rock  \n",
      "9989   39.485901    -3.412534   31.727489   rock  \n",
      "\n",
      "[9990 rows x 58 columns]\n"
     ]
    }
   ],
   "source": [
    "prepro_module = run_script(os.path.join(base_dir,\"DNN_Music\", 'scripts', 'preprocessing', 'preprocessing.py'))\n",
    "df_clean = prepro_module.clean_df(df)\n",
    "print(df_clean)"
   ]
  },
  {
   "cell_type": "markdown",
   "metadata": {},
   "source": [
    "# 2. Analisis exploratorio de los datos"
   ]
  },
  {
   "cell_type": "code",
   "execution_count": 5,
   "metadata": {},
   "outputs": [],
   "source": [
    "eda_module = run_script(os.path.join(base_dir,\"DNN_Music\", 'scripts', 'eda', 'eda.py'))"
   ]
  },
  {
   "cell_type": "markdown",
   "metadata": {},
   "source": [
    "### Dimensiones del Dataframe"
   ]
  },
  {
   "cell_type": "code",
   "execution_count": 6,
   "metadata": {},
   "outputs": [
    {
     "name": "stdout",
     "output_type": "stream",
     "text": [
      "\n",
      "El dataset que vamos a utilizar tiene las dimensiones (9990, 58).\n",
      "<class 'pandas.core.frame.DataFrame'>\n",
      "RangeIndex: 9990 entries, 0 to 9989\n",
      "Data columns (total 58 columns):\n",
      " #   Column                   Non-Null Count  Dtype  \n",
      "---  ------                   --------------  -----  \n",
      " 0   chroma_stft_mean         9990 non-null   float64\n",
      " 1   chroma_stft_var          9990 non-null   float64\n",
      " 2   rms_mean                 9990 non-null   float64\n",
      " 3   rms_var                  9990 non-null   float64\n",
      " 4   spectral_centroid_mean   9990 non-null   float64\n",
      " 5   spectral_centroid_var    9990 non-null   float64\n",
      " 6   spectral_bandwidth_mean  9990 non-null   float64\n",
      " 7   spectral_bandwidth_var   9990 non-null   float64\n",
      " 8   rolloff_mean             9990 non-null   float64\n",
      " 9   rolloff_var              9990 non-null   float64\n",
      " 10  zero_crossing_rate_mean  9990 non-null   float64\n",
      " 11  zero_crossing_rate_var   9990 non-null   float64\n",
      " 12  harmony_mean             9990 non-null   float64\n",
      " 13  harmony_var              9990 non-null   float64\n",
      " 14  perceptr_mean            9990 non-null   float64\n",
      " 15  perceptr_var             9990 non-null   float64\n",
      " 16  tempo                    9990 non-null   float64\n",
      " 17  mfcc1_mean               9990 non-null   float64\n",
      " 18  mfcc1_var                9990 non-null   float64\n",
      " 19  mfcc2_mean               9990 non-null   float64\n",
      " 20  mfcc2_var                9990 non-null   float64\n",
      " 21  mfcc3_mean               9990 non-null   float64\n",
      " 22  mfcc3_var                9990 non-null   float64\n",
      " 23  mfcc4_mean               9990 non-null   float64\n",
      " 24  mfcc4_var                9990 non-null   float64\n",
      " 25  mfcc5_mean               9990 non-null   float64\n",
      " 26  mfcc5_var                9990 non-null   float64\n",
      " 27  mfcc6_mean               9990 non-null   float64\n",
      " 28  mfcc6_var                9990 non-null   float64\n",
      " 29  mfcc7_mean               9990 non-null   float64\n",
      " 30  mfcc7_var                9990 non-null   float64\n",
      " 31  mfcc8_mean               9990 non-null   float64\n",
      " 32  mfcc8_var                9990 non-null   float64\n",
      " 33  mfcc9_mean               9990 non-null   float64\n",
      " 34  mfcc9_var                9990 non-null   float64\n",
      " 35  mfcc10_mean              9990 non-null   float64\n",
      " 36  mfcc10_var               9990 non-null   float64\n",
      " 37  mfcc11_mean              9990 non-null   float64\n",
      " 38  mfcc11_var               9990 non-null   float64\n",
      " 39  mfcc12_mean              9990 non-null   float64\n",
      " 40  mfcc12_var               9990 non-null   float64\n",
      " 41  mfcc13_mean              9990 non-null   float64\n",
      " 42  mfcc13_var               9990 non-null   float64\n",
      " 43  mfcc14_mean              9990 non-null   float64\n",
      " 44  mfcc14_var               9990 non-null   float64\n",
      " 45  mfcc15_mean              9990 non-null   float64\n",
      " 46  mfcc15_var               9990 non-null   float64\n",
      " 47  mfcc16_mean              9990 non-null   float64\n",
      " 48  mfcc16_var               9990 non-null   float64\n",
      " 49  mfcc17_mean              9990 non-null   float64\n",
      " 50  mfcc17_var               9990 non-null   float64\n",
      " 51  mfcc18_mean              9990 non-null   float64\n",
      " 52  mfcc18_var               9990 non-null   float64\n",
      " 53  mfcc19_mean              9990 non-null   float64\n",
      " 54  mfcc19_var               9990 non-null   float64\n",
      " 55  mfcc20_mean              9990 non-null   float64\n",
      " 56  mfcc20_var               9990 non-null   float64\n",
      " 57  label                    9990 non-null   object \n",
      "dtypes: float64(57), object(1)\n",
      "memory usage: 4.4+ MB\n"
     ]
    }
   ],
   "source": [
    "eda_module.df_shape(df_clean)"
   ]
  },
  {
   "cell_type": "markdown",
   "metadata": {},
   "source": [
    "### Memoria en uso del df"
   ]
  },
  {
   "cell_type": "code",
   "execution_count": 7,
   "metadata": {},
   "outputs": [
    {
     "name": "stdout",
     "output_type": "stream",
     "text": [
      "Este dataset tiene un tamaño de 4.862802505493164 MB.\n"
     ]
    }
   ],
   "source": [
    "eda_module.memory_usage(df_clean)"
   ]
  },
  {
   "cell_type": "markdown",
   "metadata": {},
   "source": [
    "### ¿En qué formato están guardados los datos?"
   ]
  },
  {
   "cell_type": "code",
   "execution_count": 8,
   "metadata": {},
   "outputs": [
    {
     "name": "stdout",
     "output_type": "stream",
     "text": [
      "Los tipos de datos en el dataframe son:\n",
      "\n",
      "float64    57\n",
      "object      1\n",
      "Name: count, dtype: int64.\n"
     ]
    }
   ],
   "source": [
    "eda_module.data_type(df_clean)"
   ]
  },
  {
   "cell_type": "markdown",
   "metadata": {},
   "source": [
    "### Hay datos faltantes en el DataFrame?"
   ]
  },
  {
   "cell_type": "code",
   "execution_count": 9,
   "metadata": {},
   "outputs": [
    {
     "name": "stdout",
     "output_type": "stream",
     "text": [
      "chroma_stft_mean           0\n",
      "chroma_stft_var            0\n",
      "rms_mean                   0\n",
      "rms_var                    0\n",
      "spectral_centroid_mean     0\n",
      "spectral_centroid_var      0\n",
      "spectral_bandwidth_mean    0\n",
      "spectral_bandwidth_var     0\n",
      "rolloff_mean               0\n",
      "rolloff_var                0\n",
      "zero_crossing_rate_mean    0\n",
      "zero_crossing_rate_var     0\n",
      "harmony_mean               0\n",
      "harmony_var                0\n",
      "perceptr_mean              0\n",
      "perceptr_var               0\n",
      "tempo                      0\n",
      "mfcc1_mean                 0\n",
      "mfcc1_var                  0\n",
      "mfcc2_mean                 0\n",
      "mfcc2_var                  0\n",
      "mfcc3_mean                 0\n",
      "mfcc3_var                  0\n",
      "mfcc4_mean                 0\n",
      "mfcc4_var                  0\n",
      "mfcc5_mean                 0\n",
      "mfcc5_var                  0\n",
      "mfcc6_mean                 0\n",
      "mfcc6_var                  0\n",
      "mfcc7_mean                 0\n",
      "mfcc7_var                  0\n",
      "mfcc8_mean                 0\n",
      "mfcc8_var                  0\n",
      "mfcc9_mean                 0\n",
      "mfcc9_var                  0\n",
      "mfcc10_mean                0\n",
      "mfcc10_var                 0\n",
      "mfcc11_mean                0\n",
      "mfcc11_var                 0\n",
      "mfcc12_mean                0\n",
      "mfcc12_var                 0\n",
      "mfcc13_mean                0\n",
      "mfcc13_var                 0\n",
      "mfcc14_mean                0\n",
      "mfcc14_var                 0\n",
      "mfcc15_mean                0\n",
      "mfcc15_var                 0\n",
      "mfcc16_mean                0\n",
      "mfcc16_var                 0\n",
      "mfcc17_mean                0\n",
      "mfcc17_var                 0\n",
      "mfcc18_mean                0\n",
      "mfcc18_var                 0\n",
      "mfcc19_mean                0\n",
      "mfcc19_var                 0\n",
      "mfcc20_mean                0\n",
      "mfcc20_var                 0\n",
      "label                      0\n",
      "dtype: int64\n"
     ]
    }
   ],
   "source": [
    "eda_module.missing_data(df_clean)"
   ]
  },
  {
   "cell_type": "markdown",
   "metadata": {},
   "source": [
    "### Podemos ver que no hay ningún dato faltante en el dataset seleccionado."
   ]
  },
  {
   "cell_type": "markdown",
   "metadata": {},
   "source": [
    "## *Visualización de las labels en el df y su distribución en los géneros músicales*"
   ]
  },
  {
   "cell_type": "code",
   "execution_count": 10,
   "metadata": {},
   "outputs": [
    {
     "data": {
      "image/png": "[encoded data removed]",
      "text/plain": [
       "<Figure size 1000x600 with 1 Axes>"
      ]
     },
     "metadata": {},
     "output_type": "display_data"
    }
   ],
   "source": [
    "eda_module.label_visualizer(df_clean)"
   ]
  },
  {
   "cell_type": "code",
   "execution_count": null,
   "metadata": {},
   "outputs": [],
   "source": []
  }
 ],
 "metadata": {
  "kernelspec": {
   "display_name": "botsDiscord",
   "language": "python",
   "name": "python3"
  },
  "language_info": {
   "codemirror_mode": {
    "name": "ipython",
    "version": 3
   },
   "file_extension": ".py",
   "mimetype": "text/x-python",
   "name": "python",
   "nbconvert_exporter": "python",
   "pygments_lexer": "ipython3",
   "version": "3.12.7"
  }
 },
 "nbformat": 4,
 "nbformat_minor": 2
}
